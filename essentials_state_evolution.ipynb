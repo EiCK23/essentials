{
 "cells": [
  {
   "cell_type": "code",
   "execution_count": 2,
   "metadata": {},
   "outputs": [],
   "source": [
    "%matplotlib inline\n",
    "\n",
    "import numpy as np\n",
    "import matplotlib.pyplot as plt\n",
    "#import numba as nb\n",
    "import sys\n",
    "from scipy.integrate import odeint"
   ]
  },
  {
   "cell_type": "code",
   "execution_count": 14,
   "metadata": {},
   "outputs": [
    {
     "name": "stdout",
     "output_type": "stream",
     "text": [
      "[[ -2.   0.   4.   1.]\n",
      " [ -9.  -1.   8.   2.]\n",
      " [  0.   0.  21.  20.]\n",
      " [  0.   0. -30. -28.]]\n"
     ]
    }
   ],
   "source": [
    "A = np.array([[2,1],[-1,1]]) #maybe change variable types\n",
    "B = np.array([[1],[2]])\n",
    "C = np.array([[1,1]])\n",
    "K = np.array([[4,1]])\n",
    "L = np.array([[-19],[29]])\n",
    "Abar = np.block([[A-np.matmul(B,K),np.matmul(B,K)],[np.zeros((2, 2)),A-np.matmul(L,C)]])\n",
    "\n",
    "print(Abar)"
   ]
  },
  {
   "cell_type": "markdown",
   "metadata": {},
   "source": [
    "Above, we have an example of how to construct the block matrix that utilizes the separation principle! That is, we place the poles of the full state regulator $A-BK$ and observer $A-LC$ separately.\n",
    "\\begin{bmatrix}\n",
    "A-BK & BK \\\\\n",
    "0 & A-LC \\\\\n",
    "\\end{bmatrix}\n",
    "\n",
    "\n",
    "In the derivs, we see something that looks like this:\n",
    "\n",
    "$$\n",
    "\\begin{bmatrix}\n",
    "\\dot{x}_1 \\\\\n",
    "\\dot{x}_2 \\\\\n",
    "\\end{bmatrix} = \\begin{bmatrix}\n",
    "A-BK & BK \\\\\n",
    "0 & A-LC \\\\\n",
    "\\end{bmatrix} \\begin{bmatrix}\n",
    "x_1 \\\\\n",
    "x_2 \\\\\n",
    "\\end{bmatrix}$$\n",
    "\n",
    "\n",
    "If one wishes to find L using Python, use \n",
    "    control.acker(A',C',p)' \n",
    "where p is a vector of desired pole locations.\n"
   ]
  },
  {
   "cell_type": "code",
   "execution_count": 4,
   "metadata": {},
   "outputs": [
    {
     "data": {
      "image/png": "[encoded data removed]",
      "text/plain": [
       "<Figure size 640x480 with 1 Axes>"
      ]
     },
     "metadata": {},
     "output_type": "display_data"
    }
   ],
   "source": [
    "def derivs(t, y): \n",
    "    #y[0] = x\n",
    "    #y[1] = p\n",
    "    #think of y as our dependent variables and t as independent\n",
    "    derivs = np.zeros(4) #4 state space variables\n",
    "    #derivs[0] = y[1]/m #dx/dt\n",
    "    #derivs[1] = -k*y[0]**3 #dp/dt\n",
    "    A = np.array([[2,1],[-1,1]]) #maybe change variable types\n",
    "    B = np.array([[1],[2]])\n",
    "    C = np.array([[1,1]])\n",
    "    K = np.array([[4,1]])\n",
    "    L = np.array([[-19],[29]])\n",
    "    Abar = np.block([[A-np.matmul(B,K),np.matmul(B,K)],[np.zeros((2, 2)),A-np.matmul(L,C)]])\n",
    "    derivs = np.matmul(Abar, y)\n",
    "\n",
    "    return derivs\n",
    "\n",
    "def fourthorderRK(t, y, dt, F):\n",
    "    k1 = dt * F(t, y)\n",
    "    y_est = y + 0.5*k1\n",
    "    k2 = dt * F(t+dt/2, y_est)\n",
    "    y_est2 = y + 0.5*k2\n",
    "    k3 = dt * F(t+dt/2, y_est2)\n",
    "    y_est3 = y + k3\n",
    "    k4 = dt * F(t+dt, y_est3)\n",
    "\n",
    "    step = (1/6)*(k1 + 2*k2 + 2*k3 + k4)\n",
    "\n",
    "    return step\n",
    "\n",
    "tstart = 0\n",
    "tend = 8\n",
    "steps = 300\n",
    "\n",
    "def fourthorderstepper(N):\n",
    "    t = np.linspace(tstart,tend,N)\n",
    "    y = np.zeros((4,N)) #our solutions march horizontally\n",
    "    #initial conditions of all states go below\n",
    "    y[0,0] = 2\n",
    "    y[1,0] = 0\n",
    "    y[2,0] = -1\n",
    "    y[3,0] = 1\n",
    "    dt = t[1] - t[0]\n",
    "\n",
    "    for i in range(1,N):\n",
    "        y[:,i] = y[:,i-1] + fourthorderRK(t[i-1], y[:,i-1], dt, derivs)\n",
    "\n",
    "    return t, y, dt\n",
    "\n",
    "o_time, o_y, o_dtime = fourthorderstepper(steps) #the solutions achieved by stepping\n",
    "\n",
    "#plt.scatter(output[0],output[1], marker=\"o\", c='cyan')\n",
    "#plt.scatter(output[2],output[3], marker=\"o\", c='cyan')\n",
    "plt.plot(o_y[0],o_y[1], \"+g\",label ='$x$')\n",
    "plt.plot(o_y[2],o_y[3], \"+r\",label ='$\\~{x}$')\n",
    "#linestyle = ':', color = 'purple')\n",
    "plt.title(\"Trajectory Evolution with Observer\")\n",
    "plt.xlabel(r\"$x_1$\", fontsize=10)\n",
    "plt.ylabel(r\"$x_2$\", fontsize=10)\n",
    "plt.legend(loc = \"upper right\", prop={'size': 12})\n",
    "plt.show()"
   ]
  },
  {
   "cell_type": "markdown",
   "metadata": {},
   "source": [
    "We can compare the convergence of the state to the origin to the convergence of the estimator error. The estimated state of x is $\\hat{x}$.\n",
    "\n",
    "$$\\hat{x} = x + \\~{x}$$"
   ]
  },
  {
   "cell_type": "code",
   "execution_count": 3,
   "metadata": {},
   "outputs": [
    {
     "ename": "NameError",
     "evalue": "name 'steps' is not defined",
     "output_type": "error",
     "traceback": [
      "\u001b[0;31m---------------------------------------------------------------------------\u001b[0m",
      "\u001b[0;31mNameError\u001b[0m                                 Traceback (most recent call last)",
      "\u001b[1;32m/Users/brandoneickert/ MIT/essentials_state_evolution.ipynb Cell 6\u001b[0m line \u001b[0;36m3\n\u001b[1;32m      <a href='vscode-notebook-cell:/Users/brandoneickert/%20MIT/essentials_state_evolution.ipynb#W5sZmlsZQ%3D%3D?line=0'>1</a>\u001b[0m \u001b[39m#this compares the twonorms for state and obbserver\u001b[39;00m\n\u001b[1;32m      <a href='vscode-notebook-cell:/Users/brandoneickert/%20MIT/essentials_state_evolution.ipynb#W5sZmlsZQ%3D%3D?line=1'>2</a>\u001b[0m \u001b[39mimport\u001b[39;00m \u001b[39mtime\u001b[39;00m\n\u001b[0;32m----> <a href='vscode-notebook-cell:/Users/brandoneickert/%20MIT/essentials_state_evolution.ipynb#W5sZmlsZQ%3D%3D?line=2'>3</a>\u001b[0m twonormx \u001b[39m=\u001b[39m np\u001b[39m.\u001b[39mzeros(steps)\n\u001b[1;32m      <a href='vscode-notebook-cell:/Users/brandoneickert/%20MIT/essentials_state_evolution.ipynb#W5sZmlsZQ%3D%3D?line=3'>4</a>\u001b[0m twonormxs \u001b[39m=\u001b[39m np\u001b[39m.\u001b[39mzeros(steps)\n\u001b[1;32m      <a href='vscode-notebook-cell:/Users/brandoneickert/%20MIT/essentials_state_evolution.ipynb#W5sZmlsZQ%3D%3D?line=5'>6</a>\u001b[0m \u001b[39mfor\u001b[39;00m i \u001b[39min\u001b[39;00m \u001b[39mrange\u001b[39m(steps):\n",
      "\u001b[0;31mNameError\u001b[0m: name 'steps' is not defined"
     ]
    }
   ],
   "source": [
    "#this compares the twonorms for state and obbserver\n",
    "import time\n",
    "twonormx = np.zeros(steps)\n",
    "twonormxs = np.zeros(steps)\n",
    "\n",
    "for i in range(steps):\n",
    "    twonormx[i] = np.sqrt(o_y[0,i]**2+o_y[1,i]**2)\n",
    "    twonormxs[i] = np.sqrt(o_y[2,i]**2+o_y[3,i]**2)\n",
    "\n",
    "plt.plot(o_time,twonormx, \"-g\",label ='$||x||$')\n",
    "plt.plot(o_time,twonormxs, \"-r\",label ='$||\\~{x}||$')\n",
    "#linestyle = ':', color = 'purple')\n",
    "plt.title(\"Two-norm Evolution with Observer\")\n",
    "plt.xlabel(\"time\", fontsize=10)\n",
    "#plt.ylabel(r\"$x_2$\", fontsize=10)\n",
    "plt.legend(loc = \"upper right\", prop={'size': 12})\n",
    "plt.show()"
   ]
  },
  {
   "cell_type": "code",
   "execution_count": null,
   "metadata": {},
   "outputs": [],
   "source": []
  }
 ],
 "metadata": {
  "kernelspec": {
   "display_name": "Python 3 (ipykernel)",
   "language": "python",
   "name": "python3"
  },
  "language_info": {
   "codemirror_mode": {
    "name": "ipython",
    "version": 3
   },
   "file_extension": ".py",
   "mimetype": "text/x-python",
   "name": "python",
   "nbconvert_exporter": "python",
   "pygments_lexer": "ipython3",
   "version": "3.11.7"
  }
 },
 "nbformat": 4,
 "nbformat_minor": 4
}
